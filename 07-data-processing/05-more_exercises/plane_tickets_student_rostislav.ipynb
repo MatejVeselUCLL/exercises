{
 "cells": [
  {
   "cell_type": "markdown",
   "metadata": {},
   "source": [
    "Import the necessary packages\n"
   ]
  },
  {
   "cell_type": "code",
   "execution_count": 2,
   "metadata": {},
   "outputs": [],
   "source": [
    "import pandas as pd\n",
    "import numpy as np\n",
    "import matplotlib.pyplot as plt"
   ]
  },
  {
   "cell_type": "markdown",
   "metadata": {},
   "source": [
    "Load the data in a DataFrame and show the first 5 rows to inspect the DataFrame."
   ]
  },
  {
   "cell_type": "code",
   "execution_count": 18,
   "metadata": {},
   "outputs": [
    {
     "name": "stdout",
     "output_type": "stream",
     "text": [
      "   num_passengers sales_channel  trip_type  purchase_lead  length_of_stay  \\\n",
      "0               2      Internet  RoundTrip            262              19   \n",
      "1               1      Internet  RoundTrip            112              20   \n",
      "2               2      Internet  RoundTrip            243              22   \n",
      "3               1      Internet  RoundTrip             96              31   \n",
      "4               2      Internet  RoundTrip             68              22   \n",
      "\n",
      "   flight_hour flight_day   route booking_origin  wants_extra_baggage  \\\n",
      "0            7        Sat  AKLDEL    New Zealand                    1   \n",
      "1            3        Sat  AKLDEL    New Zealand                    0   \n",
      "2           17        Wed  AKLDEL          India                    1   \n",
      "3            4        Sat  AKLDEL    New Zealand                    0   \n",
      "4           15        Wed  AKLDEL          India                    1   \n",
      "\n",
      "   wants_preferred_seat  wants_in_flight_meals  flight_duration  \\\n",
      "0                     0                      0             5.52   \n",
      "1                     0                      0             5.52   \n",
      "2                     1                      0             5.52   \n",
      "3                     0                      1             5.52   \n",
      "4                     0                      1             5.52   \n",
      "\n",
      "   booking_complete  \n",
      "0                 0  \n",
      "1                 0  \n",
      "2                 0  \n",
      "3                 0  \n",
      "4                 0  \n"
     ]
    }
   ],
   "source": [
    "filepath = \"customer_booking.csv\"\n",
    "plane_tickets_df = pd.read_csv(filepath, encoding='Windows-1252')\n",
    "print(plane_tickets_df.head(5))"
   ]
  },
  {
   "cell_type": "markdown",
   "metadata": {},
   "source": [
    "**Information about the dataframe**\n",
    "  \n",
    "  \n",
    "This dataset contains information about airline bookings, including the number of passengers, sales channel, trip type, purchase lead time, length of stay, flight hour, flight day, route, booking origin, and various flags indicating if the customer wanted extra baggage, preferred seat, or in-flight meals. The dataset also includes the total flight duration and a flag indicating if the booking was completed. This information can be used for various analyses, such as predicting demand, identifying popular routes, and understanding customer preferences.\n",
    "\n",
    "**Column Description**:\n",
    "* num_passengers = number of passengers travelling\n",
    "* sales_channel = sales channel booking was made on\n",
    "* trip_type = trip Type (Round Trip, One Way, Circle Trip)\n",
    "* purchase_lead = number of days between travel date and booking date\n",
    "* length_of_stay = number of days spent at destination\n",
    "* flight_hour = hour of flight departure\n",
    "* flight_day = day of week of flight departure\n",
    "* route = origin -> destination flight route\n",
    "* booking_origin = country from where booking was made\n",
    "* wants_extra_baggage = if the customer wanted extra baggage in the booking\n",
    "* wants_preferred_seat = if the customer wanted a preferred seat in the booking\n",
    "* wants_in_flight_meals = if the customer wanted in-flight meals in the booking\n",
    "* flight_duration = total duration of flight (in hours)\n",
    "* booking_complete = flag indicating if the customer completed the booking"
   ]
  },
  {
   "cell_type": "markdown",
   "metadata": {},
   "source": [
    "Create a new dataframe from this one:\n",
    "* only containing following columns:  \n",
    "num_passengers, purchase_lead, length_of_stay, booking_origin, flight_duration and booking_complete\n",
    "* with only the rows where the booking is completed (1)\n"
   ]
  },
  {
   "cell_type": "code",
   "execution_count": 20,
   "metadata": {},
   "outputs": [
    {
     "data": {
      "text/html": [
       "<div>\n",
       "<style scoped>\n",
       "    .dataframe tbody tr th:only-of-type {\n",
       "        vertical-align: middle;\n",
       "    }\n",
       "\n",
       "    .dataframe tbody tr th {\n",
       "        vertical-align: top;\n",
       "    }\n",
       "\n",
       "    .dataframe thead th {\n",
       "        text-align: right;\n",
       "    }\n",
       "</style>\n",
       "<table border=\"1\" class=\"dataframe\">\n",
       "  <thead>\n",
       "    <tr style=\"text-align: right;\">\n",
       "      <th></th>\n",
       "      <th>num_passengers</th>\n",
       "      <th>purchase_lead</th>\n",
       "      <th>length_of_stay</th>\n",
       "      <th>booking_origin</th>\n",
       "      <th>flight_duration</th>\n",
       "      <th>booking_complete</th>\n",
       "    </tr>\n",
       "  </thead>\n",
       "  <tbody>\n",
       "    <tr>\n",
       "      <th>82</th>\n",
       "      <td>1</td>\n",
       "      <td>15</td>\n",
       "      <td>31</td>\n",
       "      <td>Malaysia</td>\n",
       "      <td>8.83</td>\n",
       "      <td>1</td>\n",
       "    </tr>\n",
       "    <tr>\n",
       "      <th>86</th>\n",
       "      <td>1</td>\n",
       "      <td>156</td>\n",
       "      <td>19</td>\n",
       "      <td>Malaysia</td>\n",
       "      <td>8.83</td>\n",
       "      <td>1</td>\n",
       "    </tr>\n",
       "    <tr>\n",
       "      <th>94</th>\n",
       "      <td>1</td>\n",
       "      <td>181</td>\n",
       "      <td>87</td>\n",
       "      <td>Singapore</td>\n",
       "      <td>8.83</td>\n",
       "      <td>1</td>\n",
       "    </tr>\n",
       "    <tr>\n",
       "      <th>109</th>\n",
       "      <td>1</td>\n",
       "      <td>127</td>\n",
       "      <td>17</td>\n",
       "      <td>Malaysia</td>\n",
       "      <td>8.83</td>\n",
       "      <td>1</td>\n",
       "    </tr>\n",
       "    <tr>\n",
       "      <th>122</th>\n",
       "      <td>1</td>\n",
       "      <td>42</td>\n",
       "      <td>17</td>\n",
       "      <td>Malaysia</td>\n",
       "      <td>8.83</td>\n",
       "      <td>1</td>\n",
       "    </tr>\n",
       "    <tr>\n",
       "      <th>...</th>\n",
       "      <td>...</td>\n",
       "      <td>...</td>\n",
       "      <td>...</td>\n",
       "      <td>...</td>\n",
       "      <td>...</td>\n",
       "      <td>...</td>\n",
       "    </tr>\n",
       "    <tr>\n",
       "      <th>49972</th>\n",
       "      <td>1</td>\n",
       "      <td>33</td>\n",
       "      <td>6</td>\n",
       "      <td>Taiwan</td>\n",
       "      <td>4.67</td>\n",
       "      <td>1</td>\n",
       "    </tr>\n",
       "    <tr>\n",
       "      <th>49977</th>\n",
       "      <td>2</td>\n",
       "      <td>15</td>\n",
       "      <td>6</td>\n",
       "      <td>Malaysia</td>\n",
       "      <td>4.67</td>\n",
       "      <td>1</td>\n",
       "    </tr>\n",
       "    <tr>\n",
       "      <th>49980</th>\n",
       "      <td>4</td>\n",
       "      <td>242</td>\n",
       "      <td>6</td>\n",
       "      <td>Malaysia</td>\n",
       "      <td>5.00</td>\n",
       "      <td>1</td>\n",
       "    </tr>\n",
       "    <tr>\n",
       "      <th>49984</th>\n",
       "      <td>2</td>\n",
       "      <td>7</td>\n",
       "      <td>6</td>\n",
       "      <td>Australia</td>\n",
       "      <td>5.62</td>\n",
       "      <td>1</td>\n",
       "    </tr>\n",
       "    <tr>\n",
       "      <th>49987</th>\n",
       "      <td>3</td>\n",
       "      <td>243</td>\n",
       "      <td>6</td>\n",
       "      <td>Australia</td>\n",
       "      <td>5.62</td>\n",
       "      <td>1</td>\n",
       "    </tr>\n",
       "  </tbody>\n",
       "</table>\n",
       "<p>7478 rows × 6 columns</p>\n",
       "</div>"
      ],
      "text/plain": [
       "       num_passengers  purchase_lead  length_of_stay booking_origin  \\\n",
       "82                  1             15              31       Malaysia   \n",
       "86                  1            156              19       Malaysia   \n",
       "94                  1            181              87      Singapore   \n",
       "109                 1            127              17       Malaysia   \n",
       "122                 1             42              17       Malaysia   \n",
       "...               ...            ...             ...            ...   \n",
       "49972               1             33               6         Taiwan   \n",
       "49977               2             15               6       Malaysia   \n",
       "49980               4            242               6       Malaysia   \n",
       "49984               2              7               6      Australia   \n",
       "49987               3            243               6      Australia   \n",
       "\n",
       "       flight_duration  booking_complete  \n",
       "82                8.83                 1  \n",
       "86                8.83                 1  \n",
       "94                8.83                 1  \n",
       "109               8.83                 1  \n",
       "122               8.83                 1  \n",
       "...                ...               ...  \n",
       "49972             4.67                 1  \n",
       "49977             4.67                 1  \n",
       "49980             5.00                 1  \n",
       "49984             5.62                 1  \n",
       "49987             5.62                 1  \n",
       "\n",
       "[7478 rows x 6 columns]"
      ]
     },
     "execution_count": 20,
     "metadata": {},
     "output_type": "execute_result"
    }
   ],
   "source": [
    "filtered_bookings = plane_tickets_df[plane_tickets_df['booking_complete'] > 0]\n",
    "selected_columns = ['num_passengers', 'purchase_lead', 'length_of_stay', 'booking_origin', 'flight_duration', 'booking_complete']\n",
    "sliced_bookings = pd.DataFrame(filtered_bookings[selected_columns])\n",
    "sliced_bookings"
   ]
  },
  {
   "cell_type": "markdown",
   "metadata": {},
   "source": [
    "Group the average days between booking date and traveling date per country of the booking. Display the countries with the lowest average of days between booking and traveling first and the ones with the most days last."
   ]
  },
  {
   "cell_type": "code",
   "execution_count": 82,
   "metadata": {},
   "outputs": [
    {
     "name": "stdout",
     "output_type": "stream",
     "text": [
      "booking_origin\n",
      "Czech Republic            3.000000\n",
      "Vanuatu                  11.000000\n",
      "Sweden                   12.600000\n",
      "Bahrain                  16.000000\n",
      "Greece                   16.000000\n",
      "Kenya                    19.000000\n",
      "Kuwait                   23.500000\n",
      "Oman                     24.666667\n",
      "United Arab Emirates     36.000000\n",
      "Laos                     40.166667\n",
      "Taiwan                   49.093750\n",
      "Russia                   53.666667\n",
      "Brunei                   53.951220\n",
      "Spain                    55.000000\n",
      "Pakistan                 55.000000\n",
      "Cambodia                 55.250000\n",
      "Seychelles               56.000000\n",
      "Romania                  56.000000\n",
      "Saudi Arabia             58.909091\n",
      "Mexico                   59.000000\n",
      "Macau                    59.147368\n",
      "Vietnam                  59.315789\n",
      "Australia                59.986667\n",
      "(not set)                62.000000\n",
      "Myanmar (Burma)          62.000000\n",
      "United Kingdom           63.142857\n",
      "Japan                    65.554393\n",
      "Mauritius                66.750000\n",
      "France                   66.928571\n",
      "Portugal                 67.000000\n",
      "Philippines              68.026667\n",
      "Nepal                    68.333333\n",
      "Singapore                69.899666\n",
      "India                    70.847328\n",
      "Italy                    71.181818\n",
      "Hong Kong                71.575342\n",
      "Turkey                   72.000000\n",
      "China                    79.152738\n",
      "Canada                   82.000000\n",
      "South Korea              82.006494\n",
      "United States            84.154762\n",
      "Malaysia                 86.120340\n",
      "Chile                    87.000000\n",
      "New Zealand              92.333333\n",
      "Qatar                    92.400000\n",
      "Germany                  92.500000\n",
      "Iraq                     97.000000\n",
      "Denmark                 100.000000\n",
      "Netherlands             102.500000\n",
      "Sri Lanka               103.000000\n",
      "Indonesia               106.894309\n",
      "Thailand                109.840426\n",
      "Norway                  120.000000\n",
      "Bangladesh              122.500000\n",
      "Kazakhstan              130.000000\n",
      "Switzerland             143.333333\n",
      "Belgium                 299.000000\n",
      "R‚union                 307.000000\n",
      "Name: purchase_lead, dtype: float64\n"
     ]
    }
   ],
   "source": [
    "\n",
    "average_days_per_country = sliced_bookings.groupby('booking_origin')['purchase_lead'].mean()\n",
    "sorted_countries = average_days_per_country.sort_values(ascending=True)\n",
    "\n",
    "print(sorted_countries)"
   ]
  },
  {
   "cell_type": "code",
   "execution_count": null,
   "metadata": {},
   "outputs": [],
   "source": []
  },
  {
   "cell_type": "markdown",
   "metadata": {},
   "source": [
    "Make a histogram (bar plot) of the purchase leads per country. Do this for the 5 countries with the most bookings. Place the purchase leads on the x-axis and the number of bookings on the y-axis. Use appropriate labels and show a legend."
   ]
  },
  {
   "cell_type": "code",
   "execution_count": 99,
   "metadata": {},
   "outputs": [
    {
     "data": {
      "text/html": [
       "<div>\n",
       "<style scoped>\n",
       "    .dataframe tbody tr th:only-of-type {\n",
       "        vertical-align: middle;\n",
       "    }\n",
       "\n",
       "    .dataframe tbody tr th {\n",
       "        vertical-align: top;\n",
       "    }\n",
       "\n",
       "    .dataframe thead th {\n",
       "        text-align: right;\n",
       "    }\n",
       "</style>\n",
       "<table border=\"1\" class=\"dataframe\">\n",
       "  <thead>\n",
       "    <tr style=\"text-align: right;\">\n",
       "      <th></th>\n",
       "      <th>booking_origin</th>\n",
       "      <th>purchase_lead</th>\n",
       "      <th>booking_complete</th>\n",
       "    </tr>\n",
       "  </thead>\n",
       "  <tbody>\n",
       "    <tr>\n",
       "      <th>26</th>\n",
       "      <td>Malaysia</td>\n",
       "      <td>86.120340</td>\n",
       "      <td>2468</td>\n",
       "    </tr>\n",
       "    <tr>\n",
       "      <th>1</th>\n",
       "      <td>Australia</td>\n",
       "      <td>59.986667</td>\n",
       "      <td>900</td>\n",
       "    </tr>\n",
       "    <tr>\n",
       "      <th>9</th>\n",
       "      <td>China</td>\n",
       "      <td>79.152738</td>\n",
       "      <td>694</td>\n",
       "    </tr>\n",
       "    <tr>\n",
       "      <th>17</th>\n",
       "      <td>Indonesia</td>\n",
       "      <td>106.894309</td>\n",
       "      <td>615</td>\n",
       "    </tr>\n",
       "    <tr>\n",
       "      <th>20</th>\n",
       "      <td>Japan</td>\n",
       "      <td>65.554393</td>\n",
       "      <td>478</td>\n",
       "    </tr>\n",
       "  </tbody>\n",
       "</table>\n",
       "</div>"
      ],
      "text/plain": [
       "   booking_origin  purchase_lead  booking_complete\n",
       "26       Malaysia      86.120340              2468\n",
       "1       Australia      59.986667               900\n",
       "9           China      79.152738               694\n",
       "17      Indonesia     106.894309               615\n",
       "20          Japan      65.554393               478"
      ]
     },
     "execution_count": 99,
     "metadata": {},
     "output_type": "execute_result"
    }
   ],
   "source": [
    "countries_bookings = sliced_bookings.groupby('booking_origin')['booking_complete'].count()\n",
    "countries_bookings_df = pd.DataFrame(countries_bookings).reset_index()\n",
    "average_days_per_country_df = pd.DataFrame(average_days_per_country).reset_index()\n",
    "average_days_per_country_df['booking_complete'] = countries_bookings_df['booking_complete']\n",
    "\n",
    "top_5_countries = average_days_per_country_df.sort_values(by = 'booking_complete', ascending=False).head(5)\n",
    "\n",
    "top_5_countries"
   ]
  },
  {
   "cell_type": "code",
   "execution_count": 100,
   "metadata": {},
   "outputs": [
    {
     "name": "stderr",
     "output_type": "stream",
     "text": [
      "No artists with labels found to put in legend.  Note that artists whose label start with an underscore are ignored when legend() is called with no argument.\n"
     ]
    },
    {
     "data": {
      "image/png": "[encoded data removed]",
      "text/plain": [
       "<Figure size 1000x600 with 1 Axes>"
      ]
     },
     "metadata": {},
     "output_type": "display_data"
    }
   ],
   "source": [
    "plt.figure(figsize=(10, 6))\n",
    "\n",
    "\n",
    "\n",
    "plt.hist(top_5_countries['purchase_lead'], bins=5, color='skyblue', edgecolor='black', alpha=0.7)\n",
    "\n",
    "plt.xlabel('Purchase Lead')\n",
    "plt.ylabel('Number of Bookings')\n",
    "plt.title('Purchase Leads per Country (Top 5)')\n",
    "plt.legend()\n",
    "plt.grid(True)\n",
    "plt.show()"
   ]
  },
  {
   "cell_type": "markdown",
   "metadata": {},
   "source": []
  }
 ],
 "metadata": {
  "kernelspec": {
   "display_name": "Python 3",
   "language": "python",
   "name": "python3"
  },
  "language_info": {
   "codemirror_mode": {
    "name": "ipython",
    "version": 3
   },
   "file_extension": ".py",
   "mimetype": "text/x-python",
   "name": "python",
   "nbconvert_exporter": "python",
   "pygments_lexer": "ipython3",
   "version": "3.12.0"
  }
 },
 "nbformat": 4,
 "nbformat_minor": 2
}
