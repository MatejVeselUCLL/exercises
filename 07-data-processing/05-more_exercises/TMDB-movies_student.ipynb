{
 "cells": [
  {
   "cell_type": "markdown",
   "metadata": {},
   "source": [
    "# TMDB movies"
   ]
  },
  {
   "cell_type": "markdown",
   "metadata": {},
   "source": [
    "Load all the necessary packages"
   ]
  },
  {
   "cell_type": "code",
   "execution_count": 125,
   "metadata": {},
   "outputs": [],
   "source": [
    "import pandas as pd\n",
    "import numpy as np\n",
    "import matplotlib.pyplot as plt\n",
    "import matplotlib.dates as md\n"
   ]
  },
  {
   "cell_type": "markdown",
   "metadata": {},
   "source": [
    "Load the dataset into a DataFrame and inspect the first rows of the DataFrame."
   ]
  },
  {
   "cell_type": "code",
   "execution_count": 126,
   "metadata": {},
   "outputs": [
    {
     "data": {
      "text/html": [
       "<div>\n",
       "<style scoped>\n",
       "    .dataframe tbody tr th:only-of-type {\n",
       "        vertical-align: middle;\n",
       "    }\n",
       "\n",
       "    .dataframe tbody tr th {\n",
       "        vertical-align: top;\n",
       "    }\n",
       "\n",
       "    .dataframe thead th {\n",
       "        text-align: right;\n",
       "    }\n",
       "</style>\n",
       "<table border=\"1\" class=\"dataframe\">\n",
       "  <thead>\n",
       "    <tr style=\"text-align: right;\">\n",
       "      <th></th>\n",
       "      <th>Unnamed: 0</th>\n",
       "      <th>id</th>\n",
       "      <th>title</th>\n",
       "      <th>vote_average</th>\n",
       "      <th>vote_count</th>\n",
       "      <th>status</th>\n",
       "      <th>release_date</th>\n",
       "      <th>revenue</th>\n",
       "      <th>runtime</th>\n",
       "      <th>budget</th>\n",
       "      <th>...</th>\n",
       "      <th>genres</th>\n",
       "      <th>production_companies</th>\n",
       "      <th>production_countries</th>\n",
       "      <th>spoken_languages</th>\n",
       "      <th>cast</th>\n",
       "      <th>director</th>\n",
       "      <th>director_of_photography</th>\n",
       "      <th>writers</th>\n",
       "      <th>producers</th>\n",
       "      <th>music_composer</th>\n",
       "    </tr>\n",
       "  </thead>\n",
       "  <tbody>\n",
       "    <tr>\n",
       "      <th>0</th>\n",
       "      <td>11</td>\n",
       "      <td>16</td>\n",
       "      <td>Dancer in the Dark</td>\n",
       "      <td>7.868</td>\n",
       "      <td>1697</td>\n",
       "      <td>Released</td>\n",
       "      <td>2000-09-01</td>\n",
       "      <td>40061153.0</td>\n",
       "      <td>140</td>\n",
       "      <td>12500000.0</td>\n",
       "      <td>...</td>\n",
       "      <td>Drama, Crime</td>\n",
       "      <td>Lantia Cinema &amp; Audiovisivi, Fine Line Feature...</td>\n",
       "      <td>Argentina, Denmark, Finland, France, Germany, ...</td>\n",
       "      <td>English</td>\n",
       "      <td>Bobo Eriksson, Caroline Sascha Cogez, Bo Weste...</td>\n",
       "      <td>Lars von Trier</td>\n",
       "      <td>Robby Müller</td>\n",
       "      <td>Sjón, Lars von Trier</td>\n",
       "      <td>Leo Pescarolo, Peter Aalbæk Jensen, Vibeke Win...</td>\n",
       "      <td>Björk</td>\n",
       "    </tr>\n",
       "    <tr>\n",
       "      <th>1</th>\n",
       "      <td>26</td>\n",
       "      <td>55</td>\n",
       "      <td>Amores Perros</td>\n",
       "      <td>7.600</td>\n",
       "      <td>2475</td>\n",
       "      <td>Released</td>\n",
       "      <td>2000-06-16</td>\n",
       "      <td>20908467.0</td>\n",
       "      <td>154</td>\n",
       "      <td>2000000.0</td>\n",
       "      <td>...</td>\n",
       "      <td>Drama, Thriller</td>\n",
       "      <td>Altavista Films, Zeta Film</td>\n",
       "      <td>Mexico</td>\n",
       "      <td>Español</td>\n",
       "      <td>Gerardo Campbell, Rosa María Bianchi, Ricardo ...</td>\n",
       "      <td>Alejandro González Iñárritu</td>\n",
       "      <td>Rodrigo Prieto</td>\n",
       "      <td>Guillermo Arriaga</td>\n",
       "      <td>Martha Sosa Elizondo, Francisco González Compe...</td>\n",
       "      <td>Gustavo Santaolalla</td>\n",
       "    </tr>\n",
       "    <tr>\n",
       "      <th>2</th>\n",
       "      <td>31</td>\n",
       "      <td>64</td>\n",
       "      <td>Talk to Her</td>\n",
       "      <td>7.579</td>\n",
       "      <td>1233</td>\n",
       "      <td>Released</td>\n",
       "      <td>2002-03-15</td>\n",
       "      <td>64803131.0</td>\n",
       "      <td>112</td>\n",
       "      <td>0.0</td>\n",
       "      <td>...</td>\n",
       "      <td>Drama, Romance</td>\n",
       "      <td>Vía Digital, Good Machine, El Deseo, Atresmedia</td>\n",
       "      <td>Spain</td>\n",
       "      <td>Español</td>\n",
       "      <td>Carlos García Cambero, Leonor Watling, Pina Ba...</td>\n",
       "      <td>Pedro Almodóvar</td>\n",
       "      <td>Javier Aguirresarobe</td>\n",
       "      <td>Pedro Almodóvar</td>\n",
       "      <td>Michel Ruben, Agustín Almodóvar</td>\n",
       "      <td>Alberto Iglesias, Vicente Amigo</td>\n",
       "    </tr>\n",
       "    <tr>\n",
       "      <th>3</th>\n",
       "      <td>32</td>\n",
       "      <td>65</td>\n",
       "      <td>8 Mile</td>\n",
       "      <td>7.134</td>\n",
       "      <td>6958</td>\n",
       "      <td>Released</td>\n",
       "      <td>2002-11-08</td>\n",
       "      <td>242875078.0</td>\n",
       "      <td>111</td>\n",
       "      <td>41000000.0</td>\n",
       "      <td>...</td>\n",
       "      <td>Drama, Music</td>\n",
       "      <td>Mikona Productions, Imagine Entertainment</td>\n",
       "      <td>Germany, United States of America</td>\n",
       "      <td>English</td>\n",
       "      <td>Malik Barnhardt, Mike Bell, Allen Adams, Abdul...</td>\n",
       "      <td>Curtis Hanson</td>\n",
       "      <td>Rodrigo Prieto</td>\n",
       "      <td>Scott Silver</td>\n",
       "      <td>Jimmy Iovine, Jim Whitaker, Brian Grazer, Greg...</td>\n",
       "      <td>NaN</td>\n",
       "    </tr>\n",
       "    <tr>\n",
       "      <th>4</th>\n",
       "      <td>38</td>\n",
       "      <td>71</td>\n",
       "      <td>Billy Elliot</td>\n",
       "      <td>7.600</td>\n",
       "      <td>3691</td>\n",
       "      <td>Released</td>\n",
       "      <td>2000-09-28</td>\n",
       "      <td>109280263.0</td>\n",
       "      <td>110</td>\n",
       "      <td>5000000.0</td>\n",
       "      <td>...</td>\n",
       "      <td>Drama, Comedy, Music</td>\n",
       "      <td>StudioCanal, BBC Film, Tiger Aspect, Arts Coun...</td>\n",
       "      <td>France, United Kingdom, United States of America</td>\n",
       "      <td>English</td>\n",
       "      <td>Lee Williams, Colin MacLachlan, Neil North, Pa...</td>\n",
       "      <td>Stephen Daldry</td>\n",
       "      <td>Brian Tufano</td>\n",
       "      <td>Lee Hall</td>\n",
       "      <td>Jonathan Finn, Natascha Wharton, Tessa Ross, D...</td>\n",
       "      <td>Stephen Warbeck</td>\n",
       "    </tr>\n",
       "  </tbody>\n",
       "</table>\n",
       "<p>5 rows × 26 columns</p>\n",
       "</div>"
      ],
      "text/plain": [
       "   Unnamed: 0  id               title  vote_average  vote_count    status  \\\n",
       "0          11  16  Dancer in the Dark         7.868        1697  Released   \n",
       "1          26  55       Amores Perros         7.600        2475  Released   \n",
       "2          31  64         Talk to Her         7.579        1233  Released   \n",
       "3          32  65              8 Mile         7.134        6958  Released   \n",
       "4          38  71        Billy Elliot         7.600        3691  Released   \n",
       "\n",
       "  release_date      revenue  runtime      budget  ...                genres  \\\n",
       "0   2000-09-01   40061153.0      140  12500000.0  ...          Drama, Crime   \n",
       "1   2000-06-16   20908467.0      154   2000000.0  ...       Drama, Thriller   \n",
       "2   2002-03-15   64803131.0      112         0.0  ...        Drama, Romance   \n",
       "3   2002-11-08  242875078.0      111  41000000.0  ...          Drama, Music   \n",
       "4   2000-09-28  109280263.0      110   5000000.0  ...  Drama, Comedy, Music   \n",
       "\n",
       "                                production_companies  \\\n",
       "0  Lantia Cinema & Audiovisivi, Fine Line Feature...   \n",
       "1                         Altavista Films, Zeta Film   \n",
       "2    Vía Digital, Good Machine, El Deseo, Atresmedia   \n",
       "3          Mikona Productions, Imagine Entertainment   \n",
       "4  StudioCanal, BBC Film, Tiger Aspect, Arts Coun...   \n",
       "\n",
       "                                production_countries spoken_languages  \\\n",
       "0  Argentina, Denmark, Finland, France, Germany, ...          English   \n",
       "1                                             Mexico          Español   \n",
       "2                                              Spain          Español   \n",
       "3                  Germany, United States of America          English   \n",
       "4   France, United Kingdom, United States of America          English   \n",
       "\n",
       "                                                cast  \\\n",
       "0  Bobo Eriksson, Caroline Sascha Cogez, Bo Weste...   \n",
       "1  Gerardo Campbell, Rosa María Bianchi, Ricardo ...   \n",
       "2  Carlos García Cambero, Leonor Watling, Pina Ba...   \n",
       "3  Malik Barnhardt, Mike Bell, Allen Adams, Abdul...   \n",
       "4  Lee Williams, Colin MacLachlan, Neil North, Pa...   \n",
       "\n",
       "                      director director_of_photography               writers  \\\n",
       "0               Lars von Trier            Robby Müller  Sjón, Lars von Trier   \n",
       "1  Alejandro González Iñárritu          Rodrigo Prieto     Guillermo Arriaga   \n",
       "2              Pedro Almodóvar    Javier Aguirresarobe       Pedro Almodóvar   \n",
       "3                Curtis Hanson          Rodrigo Prieto          Scott Silver   \n",
       "4               Stephen Daldry            Brian Tufano              Lee Hall   \n",
       "\n",
       "                                           producers  \\\n",
       "0  Leo Pescarolo, Peter Aalbæk Jensen, Vibeke Win...   \n",
       "1  Martha Sosa Elizondo, Francisco González Compe...   \n",
       "2                    Michel Ruben, Agustín Almodóvar   \n",
       "3  Jimmy Iovine, Jim Whitaker, Brian Grazer, Greg...   \n",
       "4  Jonathan Finn, Natascha Wharton, Tessa Ross, D...   \n",
       "\n",
       "                    music_composer  \n",
       "0                            Björk  \n",
       "1              Gustavo Santaolalla  \n",
       "2  Alberto Iglesias, Vicente Amigo  \n",
       "3                              NaN  \n",
       "4                  Stephen Warbeck  \n",
       "\n",
       "[5 rows x 26 columns]"
      ]
     },
     "execution_count": 126,
     "metadata": {},
     "output_type": "execute_result"
    }
   ],
   "source": [
    "filepath = \"TMDB-movies-small.csv\"\n",
    "csv_data = pd.read_csv(filepath)\n",
    "csv_data.head()"
   ]
  },
  {
   "cell_type": "markdown",
   "metadata": {},
   "source": [
    "Create a new DataFrame with all the movies released in 2000. Tip: Format the release dates as pandas datetime objects. Inspect the amount of rows in the new DataFrame."
   ]
  },
  {
   "cell_type": "code",
   "execution_count": 127,
   "metadata": {},
   "outputs": [],
   "source": [
    "df = pd.DataFrame(csv_data)\n",
    "# df[df['release_date'].str.fullmatch(r'^2000.*$')]\n",
    "df['release_date'] = pd.to_datetime(df['release_date'])\n",
    "df_from_2000 = df[df['release_date'].dt.year == 2000]"
   ]
  },
  {
   "cell_type": "markdown",
   "metadata": {},
   "source": [
    "Create a new DataFrame df_topmovies which only incorporates the rows with the movies of the year 2000 who get an average score of at least 9. Compare the total rows of the original dataframe with df_topmovies. (Tip: use shape)"
   ]
  },
  {
   "cell_type": "code",
   "execution_count": 128,
   "metadata": {},
   "outputs": [
    {
     "name": "stdout",
     "output_type": "stream",
     "text": [
      "Original df: (9392, 26)\n",
      "Top movies df: (185, 26)\n"
     ]
    }
   ],
   "source": [
    "df_topmovies = df_from_2000[df_from_2000['vote_average'] >= 9]\n",
    "print(f\"Original df: {df.shape}\\nTop movies df: {df_topmovies.shape}\")"
   ]
  },
  {
   "cell_type": "markdown",
   "metadata": {},
   "source": [
    "Replace all NaN's with 0."
   ]
  },
  {
   "cell_type": "code",
   "execution_count": 129,
   "metadata": {},
   "outputs": [
    {
     "name": "stdout",
     "output_type": "stream",
     "text": [
      "<class 'pandas.core.frame.DataFrame'>\n",
      "RangeIndex: 9392 entries, 0 to 9391\n",
      "Data columns (total 26 columns):\n",
      " #   Column                   Non-Null Count  Dtype         \n",
      "---  ------                   --------------  -----         \n",
      " 0   Unnamed: 0               9392 non-null   int64         \n",
      " 1   id                       9392 non-null   int64         \n",
      " 2   title                    9392 non-null   object        \n",
      " 3   vote_average             9392 non-null   float64       \n",
      " 4   vote_count               9392 non-null   int64         \n",
      " 5   status                   9392 non-null   object        \n",
      " 6   release_date             9392 non-null   datetime64[ns]\n",
      " 7   revenue                  9392 non-null   float64       \n",
      " 8   runtime                  9392 non-null   int64         \n",
      " 9   budget                   9392 non-null   float64       \n",
      " 10  imdb_id                  9392 non-null   object        \n",
      " 11  original_language        9392 non-null   object        \n",
      " 12  original_title           9392 non-null   object        \n",
      " 13  overview                 9392 non-null   object        \n",
      " 14  popularity               9392 non-null   float64       \n",
      " 15  tagline                  9392 non-null   object        \n",
      " 16  genres                   9392 non-null   object        \n",
      " 17  production_companies     9392 non-null   object        \n",
      " 18  production_countries     9392 non-null   object        \n",
      " 19  spoken_languages         9392 non-null   object        \n",
      " 20  cast                     9392 non-null   object        \n",
      " 21  director                 9392 non-null   object        \n",
      " 22  director_of_photography  9392 non-null   object        \n",
      " 23  writers                  9392 non-null   object        \n",
      " 24  producers                9392 non-null   object        \n",
      " 25  music_composer           9392 non-null   object        \n",
      "dtypes: datetime64[ns](1), float64(4), int64(4), object(17)\n",
      "memory usage: 1.9+ MB\n"
     ]
    }
   ],
   "source": [
    "# df = df.replace(np.nan, 0)\n",
    "df_topmovies = df.fillna(0)\n",
    "# df.info()"
   ]
  },
  {
   "cell_type": "markdown",
   "metadata": {},
   "source": [
    "Plot the data using a graph with on the x-axis the release dates and on the y-axis the runtime of the film.\n",
    "* Use appropriate labels and titles\n",
    "* Change the ticks and tick labels so every month has a tick and as label the abbreviation of the month (Jan, Feb, March etc.)\n",
    "* Change the color of the graph\n",
    "* Show a grid\n",
    "* Show the legend"
   ]
  },
  {
   "cell_type": "code",
   "execution_count": 149,
   "metadata": {},
   "outputs": [
    {
     "name": "stderr",
     "output_type": "stream",
     "text": [
      "No artists with labels found to put in legend.  Note that artists whose label start with an underscore are ignored when legend() is called with no argument.\n"
     ]
    },
    {
     "data": {
      "image/png": "[encoded data removed]",
      "text/plain": [
       "<Figure size 640x480 with 1 Axes>"
      ]
     },
     "metadata": {},
     "output_type": "display_data"
    }
   ],
   "source": [
    "release_date = df_topmovies['release_date']\n",
    "runtime = df_topmovies['runtime']\n",
    "# data_histo = pd.DataFram({\n",
    "#     'release_date': release_date,\n",
    "#     'runtime': runtime\n",
    "# })\n",
    "plt.xlabel('release date [month]')\n",
    "plt.ylabel('runtime [minute]')\n",
    "\n",
    "# https://stackoverflow.com/questions/46555819/months-as-axis-ticks\n",
    "# Set the locator.\n",
    "locator = md.MonthLocator() # every month\n",
    "# Specify the format - %b gives us Jan, Feb, ...\n",
    "fmt = md.DateFormatter('%b')\n",
    "\n",
    "plt.bar(release_date, runtime, color='orange')\n",
    "X = plt.gca().xaxis\n",
    "X.set_major_locator(locator)\n",
    "# Specift formatter.\n",
    "X.set_major_formatter(fmt)\n",
    "\n",
    "plt.legend()\n",
    "plt.title(\"Runtimes and release dates of movies from 2000 with average score greater than 9\")\n",
    "# release_date\n",
    "plt.grid()\n",
    "plt.show()\n",
    "\n",
    "\n",
    "# # # SOLUTION 2\n",
    "# data_histo = pd.DataFrame({\n",
    "#     'purchase_lead': [86, 60, 90, 110, 120],\n",
    "#     'booking_count': [2468, 900, 79, 107, 66],\n",
    "# })\n",
    "# plt.bar(data_histo['purchase_lead'], data_histo['booking_count'], align='center')\n",
    "# plt.xlabel('purchase_lead')\n",
    "# plt.ylabel('booking_count')\n",
    "# plt.legend()\n",
    "# plt.show()"
   ]
  }
 ],
 "metadata": {
  "kernelspec": {
   "display_name": "Python 3",
   "language": "python",
   "name": "python3"
  },
  "language_info": {
   "codemirror_mode": {
    "name": "ipython",
    "version": 3
   },
   "file_extension": ".py",
   "mimetype": "text/x-python",
   "name": "python",
   "nbconvert_exporter": "python",
   "pygments_lexer": "ipython3",
   "version": "3.11.5"
  }
 },
 "nbformat": 4,
 "nbformat_minor": 2
}
